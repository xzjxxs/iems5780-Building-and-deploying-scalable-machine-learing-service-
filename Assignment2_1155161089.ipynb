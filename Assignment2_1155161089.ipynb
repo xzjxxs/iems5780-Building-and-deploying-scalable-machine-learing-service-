{
 "cells": [
  {
   "cell_type": "code",
   "execution_count": 1,
   "id": "f450740a-417c-4a6a-b0c8-717c37d9f721",
   "metadata": {},
   "outputs": [],
   "source": [
    "# Assignment2_1155161089_XUZijun"
   ]
  },
  {
   "cell_type": "code",
   "execution_count": 2,
   "id": "02c94db7-1f44-474c-8bf5-3f3437a2ff80",
   "metadata": {},
   "outputs": [
    {
     "name": "stdout",
     "output_type": "stream",
     "text": [
      "(5068, 2) (5068, 1)\n",
      "the ratio of real-to-fake news in training sets\n",
      "label\n",
      "REAL     0.500592\n",
      "FAKE     0.499408\n",
      "dtype: float64\n",
      "the ratio of real-to-fake news in testing sets\n",
      "label\n",
      "REAL     0.500395\n",
      "FAKE     0.499605\n",
      "dtype: float64\n"
     ]
    }
   ],
   "source": [
    "# 1155161089 XU Zijun\n",
    "\n",
    "# import the libraries \n",
    "import pandas as pd \n",
    "from sklearn.ensemble import RandomForestClassifier \n",
    "from sklearn import preprocessing \n",
    "from sklearn.metrics import accuracy_score \n",
    "from sklearn.model_selection import StratifiedShuffleSplit\n",
    "from sklearn.pipeline import Pipeline\n",
    "from sklearn.feature_extraction.text import CountVectorizer, TfidfVectorizer\n",
    "from sklearn.linear_model import LogisticRegression\n",
    "from sklearn.metrics import classification_report\n",
    "import joblib\n",
    "from joblib import dump\n",
    "\n",
    "# Data Preprocessing \n",
    "df = pd.read_csv(\"news.csv\")\n",
    "X = df[[\"title\",\"text\"]]\n",
    "y = df[[\"label\"]]\n",
    "shufflesplit = StratifiedShuffleSplit(n_splits=1, test_size=0.2, random_state=0)\n",
    "for train_index,test_index in shufflesplit.split(X,y):\n",
    "    X_train, X_test = X.iloc[train_index,:], X.iloc[test_index,:]\n",
    "    y_train, y_test = y.iloc[train_index,:], y.iloc[test_index,:]\n",
    "\n",
    "\n",
    "#Check and report the ratio of real-to-fake news are roughly the same in both training and testing sets\n",
    "print(X_train.shape,y_train.shape)\n",
    "print(\"the ratio of real-to-fake news in training sets\")\n",
    "print(y_train.value_counts()/len(y_train))\n",
    "print(\"the ratio of real-to-fake news in testing sets\")\n",
    "print(y_test.value_counts()/len(y_test))\n",
    "# # save to csv file\n",
    "# with open('train.csv', 'w', encoding='utf8') as f:\n",
    "#     y_train.to_csv(f)\n",
    "# with open('test.csv', 'w', encoding='utf8') as f:\n",
    "#     y_test.to_csv(f)\n",
    "            "
   ]
  },
  {
   "cell_type": "code",
   "execution_count": 4,
   "id": "cc686625-f8b1-4e97-87e4-a80caaec89c7",
   "metadata": {},
   "outputs": [
    {
     "name": "stderr",
     "output_type": "stream",
     "text": [
      "/Users/xxx/opt/anaconda3/lib/python3.9/site-packages/sklearn/linear_model/_logistic.py:763: ConvergenceWarning: lbfgs failed to converge (status=1):\n",
      "STOP: TOTAL NO. of ITERATIONS REACHED LIMIT.\n",
      "\n",
      "Increase the number of iterations (max_iter) or scale the data as shown in:\n",
      "    https://scikit-learn.org/stable/modules/preprocessing.html\n",
      "Please also refer to the documentation for alternative solver options:\n",
      "    https://scikit-learn.org/stable/modules/linear_model.html#logistic-regression\n",
      "  n_iter_i = _check_optimize_result(\n"
     ]
    },
    {
     "name": "stdout",
     "output_type": "stream",
     "text": [
      "              precision    recall  f1-score   support\n",
      "\n",
      "        FAKE       0.93      0.92      0.92       643\n",
      "        REAL       0.91      0.93      0.92       624\n",
      "\n",
      "    accuracy                           0.92      1267\n",
      "   macro avg       0.92      0.92      0.92      1267\n",
      "weighted avg       0.92      0.92      0.92      1267\n",
      "\n"
     ]
    }
   ],
   "source": [
    "# Training Logistic Regression Models with Adding Bi-Grams to the Model\n",
    "# CounterVectorizer\n",
    "# start up a Pipeline\n",
    "pipe_Count = Pipeline([('vec', CountVectorizer(ngram_range = (1,2))),('log', LogisticRegression())])\n",
    "# train the model\n",
    "pipe_Count.fit(X_train[\"text\"],y_train[\"label\"])\n",
    "# do prediction\n",
    "y_predCount = pipe_Count.predict(X_test[\"text\"])\n",
    "# get report\n",
    "print(classification_report(y_predCount,y_test[\"label\"]))"
   ]
  },
  {
   "cell_type": "code",
   "execution_count": 5,
   "id": "7d5d840c-ae09-4272-aa23-3be3c13e44b6",
   "metadata": {},
   "outputs": [
    {
     "name": "stdout",
     "output_type": "stream",
     "text": [
      "              precision    recall  f1-score   support\n",
      "\n",
      "        FAKE       0.90      0.91      0.91       627\n",
      "        REAL       0.91      0.90      0.91       640\n",
      "\n",
      "    accuracy                           0.91      1267\n",
      "   macro avg       0.91      0.91      0.91      1267\n",
      "weighted avg       0.91      0.91      0.91      1267\n",
      "\n"
     ]
    }
   ],
   "source": [
    "# TfidfVectorizer\n",
    "# Start up a pipeline\n",
    "pipe_Tfid = Pipeline([('vec', TfidfVectorizer(ngram_range = (1,2))),('log', LogisticRegression())])\n",
    "# train the model\n",
    "pipe_Tfid.fit(X_train[\"text\"],y_train[\"label\"])\n",
    "# do prediction\n",
    "y_predTfid = pipe_Tfid.predict(X_test[\"text\"])\n",
    "# get report\n",
    "print(classification_report(y_predTfid,y_test[\"label\"]))"
   ]
  },
  {
   "cell_type": "code",
   "execution_count": 6,
   "id": "d14c349e-6095-4d9e-9a21-26d8134dd03f",
   "metadata": {},
   "outputs": [
    {
     "data": {
      "text/plain": [
       "['Tfid_1155161089.pkl']"
      ]
     },
     "execution_count": 6,
     "metadata": {},
     "output_type": "execute_result"
    }
   ],
   "source": [
    "# Save the models in a .pkl file using joblib\n",
    "joblib.dump(pipe_Count, 'Count_1155161089.pkl')\n",
    "joblib.dump(pipe_Tfid, 'Tfid_1155161089.pkl')"
   ]
  }
 ],
 "metadata": {
  "kernelspec": {
   "display_name": "Python 3 (ipykernel)",
   "language": "python",
   "name": "python3"
  },
  "language_info": {
   "codemirror_mode": {
    "name": "ipython",
    "version": 3
   },
   "file_extension": ".py",
   "mimetype": "text/x-python",
   "name": "python",
   "nbconvert_exporter": "python",
   "pygments_lexer": "ipython3",
   "version": "3.9.7"
  }
 },
 "nbformat": 4,
 "nbformat_minor": 5
}
